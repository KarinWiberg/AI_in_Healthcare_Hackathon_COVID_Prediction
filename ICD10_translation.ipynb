{
 "cells": [
  {
   "cell_type": "markdown",
   "metadata": {},
   "source": [
    "# Acces to WHO ICD API - Help needed\n",
    "https://id.who.int/swagger/index.html"
   ]
  },
  {
   "cell_type": "code",
   "execution_count": 3,
   "metadata": {},
   "outputs": [
    {
     "name": "stderr",
     "output_type": "stream",
     "text": [
      "/Users/karinwiberg/opt/anaconda3/envs/ucml/lib/python3.8/site-packages/urllib3/connectionpool.py:981: InsecureRequestWarning: Unverified HTTPS request is being made to host 'icdaccessmanagement.who.int'. Adding certificate verification is strongly advised. See: https://urllib3.readthedocs.io/en/latest/advanced-usage.html#ssl-warnings\n",
      "  warnings.warn(\n"
     ]
    },
    {
     "name": "stdout",
     "output_type": "stream",
     "text": [
      "{\"@context\":\"http://id.who.int/icd/contexts/contextForTopLevel.json\",\"@id\":\"http://id.who.int/icd/entity\",\"title\":{\"@language\":\"en\",\"@value\":\"International Classification of Diseases 11th Revision\"},\"releaseId\":\"2020-09\",\"releaseDate\":\"2020-09-15\",\"child\":[\"http://id.who.int/icd/entity/1435254666\",\"http://id.who.int/icd/entity/1630407678\",\"http://id.who.int/icd/entity/1766440644\",\"http://id.who.int/icd/entity/1954798891\",\"http://id.who.int/icd/entity/21500692\",\"http://id.who.int/icd/entity/334423054\",\"http://id.who.int/icd/entity/274880002\",\"http://id.who.int/icd/entity/1296093776\",\"http://id.who.int/icd/entity/868865918\",\"http://id.who.int/icd/entity/1218729044\",\"http://id.who.int/icd/entity/426429380\",\"http://id.who.int/icd/entity/197934298\",\"http://id.who.int/icd/entity/1256772020\",\"http://id.who.int/icd/entity/1639304259\",\"http://id.who.int/icd/entity/1473673350\",\"http://id.who.int/icd/entity/30659757\",\"http://id.who.int/icd/entity/577470983\",\"http://id.who.int/icd/entity/714000734\",\"http://id.who.int/icd/entity/1306203631\",\"http://id.who.int/icd/entity/223744320\",\"http://id.who.int/icd/entity/1843895818\",\"http://id.who.int/icd/entity/435227771\",\"http://id.who.int/icd/entity/850137482\",\"http://id.who.int/icd/entity/1249056269\",\"http://id.who.int/icd/entity/1596590595\",\"http://id.who.int/icd/entity/718687701\",\"http://id.who.int/icd/entity/231358748\",\"http://id.who.int/icd/entity/979408586\",\"http://id.who.int/icd/entity/1801349023\"],\"browserUrl\":\"NA\"}\n"
     ]
    },
    {
     "name": "stderr",
     "output_type": "stream",
     "text": [
      "/Users/karinwiberg/opt/anaconda3/envs/ucml/lib/python3.8/site-packages/urllib3/connectionpool.py:981: InsecureRequestWarning: Unverified HTTPS request is being made to host 'id.who.int'. Adding certificate verification is strongly advised. See: https://urllib3.readthedocs.io/en/latest/advanced-usage.html#ssl-warnings\n",
      "  warnings.warn(\n"
     ]
    }
   ],
   "source": [
    "import requests\n",
    "\n",
    "token_endpoint = 'https://icdaccessmanagement.who.int/connect/token'\n",
    "client_id = '55540be5-a55f-4e1a-84f0-af62b5b1c94e_0e2a59a5-7784-49dd-9498-b2ac19a2041a'\n",
    "client_secret = 'lY5F9NMxvZavv34D8TRt/Mh5zXjN07X24T4jQWWHOIM='\n",
    "scope = 'icdapi_access'\n",
    "grant_type = 'client_credentials'\n",
    "\n",
    "\n",
    "# get the OAUTH2 token\n",
    "\n",
    "# set data to post\n",
    "payload = {'client_id': client_id, \n",
    "           'client_secret': client_secret, \n",
    "           'scope': scope, \n",
    "           'grant_type': grant_type}\n",
    "           \n",
    "# make request\n",
    "r = requests.post(token_endpoint, data=payload, verify=False).json()\n",
    "token = r['access_token']\n",
    "\n",
    "\n",
    "# access ICD API\n",
    "\n",
    "uri = 'https://id.who.int/icd/entity'\n",
    "\n",
    "# HTTP header fields to set\n",
    "headers = {'Authorization':  'Bearer '+token, \n",
    "           'Accept': 'application/json', \n",
    "           'Accept-Language': 'en',\n",
    "           'API-Version': 'v2'}\n",
    "           \n",
    "# make request           \n",
    "r = requests.get(uri, headers=headers, verify=False)\n",
    "\n",
    "# print the result\n",
    "print(r.text)"
   ]
  },
  {
   "cell_type": "code",
   "execution_count": 9,
   "metadata": {},
   "outputs": [
    {
     "data": {
      "text/plain": [
       "{'Cache-Control': 'public,max-age=36000', 'Transfer-Encoding': 'chunked', 'Content-Type': 'application/json', 'Content-Encoding': 'gzip', 'Vary': 'Accept, Accept-Language, API-Version,Accept-Encoding', 'Server': 'Microsoft-IIS/10.0', 'Request-Context': 'appId=cid-v1:1862a212-e319-456e-be6e-745dfd3d92c2', 'API-Version': 'v2.0.2', 'Access-Control-Expose-Headers': 'API-Version', 'X-Powered-By': 'ASP.NET', 'Date': 'Fri, 07 May 2021 09:27:18 GMT'}"
      ]
     },
     "execution_count": 9,
     "metadata": {},
     "output_type": "execute_result"
    }
   ],
   "source": [
    "r.headers"
   ]
  },
  {
   "cell_type": "code",
   "execution_count": 10,
   "metadata": {},
   "outputs": [
    {
     "data": {
      "text/plain": [
       "<bound method Mapping.items of {'Cache-Control': 'public,max-age=36000', 'Transfer-Encoding': 'chunked', 'Content-Type': 'application/json', 'Content-Encoding': 'gzip', 'Vary': 'Accept, Accept-Language, API-Version,Accept-Encoding', 'Server': 'Microsoft-IIS/10.0', 'Request-Context': 'appId=cid-v1:1862a212-e319-456e-be6e-745dfd3d92c2', 'API-Version': 'v2.0.2', 'Access-Control-Expose-Headers': 'API-Version', 'X-Powered-By': 'ASP.NET', 'Date': 'Fri, 07 May 2021 09:27:18 GMT'}>"
      ]
     },
     "execution_count": 10,
     "metadata": {},
     "output_type": "execute_result"
    }
   ],
   "source": [
    "r.headers.items"
   ]
  },
  {
   "cell_type": "code",
   "execution_count": null,
   "metadata": {},
   "outputs": [],
   "source": []
  }
 ],
 "metadata": {
  "kernelspec": {
   "display_name": "Python 3",
   "language": "python",
   "name": "python3"
  },
  "language_info": {
   "codemirror_mode": {
    "name": "ipython",
    "version": 3
   },
   "file_extension": ".py",
   "mimetype": "text/x-python",
   "name": "python",
   "nbconvert_exporter": "python",
   "pygments_lexer": "ipython3",
   "version": "3.8.5"
  }
 },
 "nbformat": 4,
 "nbformat_minor": 4
}
