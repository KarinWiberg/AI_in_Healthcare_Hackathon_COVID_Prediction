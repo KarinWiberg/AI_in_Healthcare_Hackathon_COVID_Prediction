{
 "cells": [
  {
   "cell_type": "markdown",
   "metadata": {},
   "source": [
    "# Explorative Analysis Clean Cobined Data"
   ]
  },
  {
   "cell_type": "code",
   "execution_count": 1,
   "metadata": {},
   "outputs": [],
   "source": [
    "import pandas as pd\n",
    "import numpy as np\n",
    "import matplotlib.pyplot as plt\n",
    "import os\n",
    "import seaborn as sb\n",
    "import missingno as msno\n",
    "from sklearn import preprocessing as p\n",
    "from sklearn.model_selection import train_test_split\n",
    "from sklearn.model_selection import RandomizedSearchCV\n",
    "from sklearn.cluster import KMeans\n",
    "import warnings\n",
    "\n",
    "%matplotlib inline\n",
    "\n",
    "color = sb.color_palette(\"Set2\")[0]\n",
    "palette = sb.color_palette(\"Set2\")"
   ]
  },
  {
   "cell_type": "code",
   "execution_count": 2,
   "metadata": {},
   "outputs": [
    {
     "data": {
      "text/html": [
       "<div>\n",
       "<style scoped>\n",
       "    .dataframe tbody tr th:only-of-type {\n",
       "        vertical-align: middle;\n",
       "    }\n",
       "\n",
       "    .dataframe tbody tr th {\n",
       "        vertical-align: top;\n",
       "    }\n",
       "\n",
       "    .dataframe thead th {\n",
       "        text-align: right;\n",
       "    }\n",
       "</style>\n",
       "<table border=\"1\" class=\"dataframe\">\n",
       "  <thead>\n",
       "    <tr style=\"text-align: right;\">\n",
       "      <th></th>\n",
       "      <th>EDAD</th>\n",
       "      <th>IDINGRESO</th>\n",
       "      <th>TA_MAX_PRIMERA_URG</th>\n",
       "      <th>TA_MIN_PRIMERA_URG</th>\n",
       "      <th>TEMP_PRIMERA_URG</th>\n",
       "      <th>FC_PRIMERA_URG</th>\n",
       "      <th>SAT_02_PRIMERA_URG</th>\n",
       "      <th>GLU_PRIMERA_URG</th>\n",
       "      <th>CREA--CREATININA</th>\n",
       "      <th>DD--DIMEROD</th>\n",
       "      <th>LIN--SISTEMATICODESANGRE</th>\n",
       "      <th>NEU--SISTEMATICODESANGRE</th>\n",
       "      <th>PCR--PROTEINACREACTIVA</th>\n",
       "      <th>PLAQ--SISTEMATICODESANGRE</th>\n",
       "      <th>FEMALE</th>\n",
       "      <th>MALE</th>\n",
       "      <th>DEATH</th>\n",
       "      <th>RECOVERED</th>\n",
       "      <th>RECOVERY_IN_PROGRESS</th>\n",
       "    </tr>\n",
       "  </thead>\n",
       "  <tbody>\n",
       "    <tr>\n",
       "      <th>0</th>\n",
       "      <td>55</td>\n",
       "      <td>508</td>\n",
       "      <td>0</td>\n",
       "      <td>0</td>\n",
       "      <td>0.0</td>\n",
       "      <td>0</td>\n",
       "      <td>0</td>\n",
       "      <td>0</td>\n",
       "      <td>0.705</td>\n",
       "      <td>399.000000</td>\n",
       "      <td>2.290</td>\n",
       "      <td>3.885</td>\n",
       "      <td>6.080000</td>\n",
       "      <td>472.000000</td>\n",
       "      <td>0</td>\n",
       "      <td>1</td>\n",
       "      <td>0</td>\n",
       "      <td>1</td>\n",
       "      <td>0</td>\n",
       "    </tr>\n",
       "    <tr>\n",
       "      <th>1</th>\n",
       "      <td>54</td>\n",
       "      <td>509</td>\n",
       "      <td>0</td>\n",
       "      <td>0</td>\n",
       "      <td>0.0</td>\n",
       "      <td>0</td>\n",
       "      <td>0</td>\n",
       "      <td>0</td>\n",
       "      <td>0.800</td>\n",
       "      <td>398.000000</td>\n",
       "      <td>2.355</td>\n",
       "      <td>4.620</td>\n",
       "      <td>13.310000</td>\n",
       "      <td>657.000000</td>\n",
       "      <td>0</td>\n",
       "      <td>1</td>\n",
       "      <td>0</td>\n",
       "      <td>1</td>\n",
       "      <td>0</td>\n",
       "    </tr>\n",
       "    <tr>\n",
       "      <th>2</th>\n",
       "      <td>73</td>\n",
       "      <td>510</td>\n",
       "      <td>0</td>\n",
       "      <td>0</td>\n",
       "      <td>0.0</td>\n",
       "      <td>0</td>\n",
       "      <td>0</td>\n",
       "      <td>0</td>\n",
       "      <td>1.056</td>\n",
       "      <td>4396.750000</td>\n",
       "      <td>1.482</td>\n",
       "      <td>6.082</td>\n",
       "      <td>3.760000</td>\n",
       "      <td>306.000000</td>\n",
       "      <td>0</td>\n",
       "      <td>1</td>\n",
       "      <td>0</td>\n",
       "      <td>1</td>\n",
       "      <td>0</td>\n",
       "    </tr>\n",
       "    <tr>\n",
       "      <th>3</th>\n",
       "      <td>70</td>\n",
       "      <td>512</td>\n",
       "      <td>0</td>\n",
       "      <td>0</td>\n",
       "      <td>0.0</td>\n",
       "      <td>0</td>\n",
       "      <td>0</td>\n",
       "      <td>0</td>\n",
       "      <td>0.670</td>\n",
       "      <td>497.333333</td>\n",
       "      <td>1.395</td>\n",
       "      <td>9.175</td>\n",
       "      <td>21.986667</td>\n",
       "      <td>278.166667</td>\n",
       "      <td>1</td>\n",
       "      <td>0</td>\n",
       "      <td>0</td>\n",
       "      <td>0</td>\n",
       "      <td>1</td>\n",
       "    </tr>\n",
       "    <tr>\n",
       "      <th>4</th>\n",
       "      <td>61</td>\n",
       "      <td>513</td>\n",
       "      <td>0</td>\n",
       "      <td>0</td>\n",
       "      <td>0.0</td>\n",
       "      <td>0</td>\n",
       "      <td>0</td>\n",
       "      <td>0</td>\n",
       "      <td>0.670</td>\n",
       "      <td>470.000000</td>\n",
       "      <td>1.010</td>\n",
       "      <td>6.220</td>\n",
       "      <td>7.370000</td>\n",
       "      <td>318.000000</td>\n",
       "      <td>1</td>\n",
       "      <td>0</td>\n",
       "      <td>0</td>\n",
       "      <td>1</td>\n",
       "      <td>0</td>\n",
       "    </tr>\n",
       "  </tbody>\n",
       "</table>\n",
       "</div>"
      ],
      "text/plain": [
       "   EDAD  IDINGRESO  TA_MAX_PRIMERA_URG  TA_MIN_PRIMERA_URG  TEMP_PRIMERA_URG  \\\n",
       "0    55        508                   0                   0               0.0   \n",
       "1    54        509                   0                   0               0.0   \n",
       "2    73        510                   0                   0               0.0   \n",
       "3    70        512                   0                   0               0.0   \n",
       "4    61        513                   0                   0               0.0   \n",
       "\n",
       "   FC_PRIMERA_URG  SAT_02_PRIMERA_URG  GLU_PRIMERA_URG  CREA--CREATININA  \\\n",
       "0               0                   0                0             0.705   \n",
       "1               0                   0                0             0.800   \n",
       "2               0                   0                0             1.056   \n",
       "3               0                   0                0             0.670   \n",
       "4               0                   0                0             0.670   \n",
       "\n",
       "   DD--DIMEROD  LIN--SISTEMATICODESANGRE  NEU--SISTEMATICODESANGRE  \\\n",
       "0   399.000000                     2.290                     3.885   \n",
       "1   398.000000                     2.355                     4.620   \n",
       "2  4396.750000                     1.482                     6.082   \n",
       "3   497.333333                     1.395                     9.175   \n",
       "4   470.000000                     1.010                     6.220   \n",
       "\n",
       "   PCR--PROTEINACREACTIVA  PLAQ--SISTEMATICODESANGRE  FEMALE  MALE  DEATH  \\\n",
       "0                6.080000                 472.000000       0     1      0   \n",
       "1               13.310000                 657.000000       0     1      0   \n",
       "2                3.760000                 306.000000       0     1      0   \n",
       "3               21.986667                 278.166667       1     0      0   \n",
       "4                7.370000                 318.000000       1     0      0   \n",
       "\n",
       "   RECOVERED  RECOVERY_IN_PROGRESS  \n",
       "0          1                     0  \n",
       "1          1                     0  \n",
       "2          1                     0  \n",
       "3          0                     1  \n",
       "4          1                     0  "
      ]
     },
     "execution_count": 2,
     "metadata": {},
     "output_type": "execute_result"
    }
   ],
   "source": [
    "data = pd.read_csv('../data/cleaned_data_v2-combined_v2.csv', sep=',', index_col = 0)\n",
    "data.head()"
   ]
  },
  {
   "cell_type": "code",
   "execution_count": 3,
   "metadata": {},
   "outputs": [
    {
     "name": "stdout",
     "output_type": "stream",
     "text": [
      "<class 'pandas.core.frame.DataFrame'>\n",
      "Int64Index: 5400 entries, 0 to 2067\n",
      "Data columns (total 19 columns):\n",
      " #   Column                     Non-Null Count  Dtype  \n",
      "---  ------                     --------------  -----  \n",
      " 0   EDAD                       5400 non-null   int64  \n",
      " 1   IDINGRESO                  5400 non-null   int64  \n",
      " 2   TA_MAX_PRIMERA_URG         5400 non-null   int64  \n",
      " 3   TA_MIN_PRIMERA_URG         5400 non-null   int64  \n",
      " 4   TEMP_PRIMERA_URG           5400 non-null   float64\n",
      " 5   FC_PRIMERA_URG             5400 non-null   int64  \n",
      " 6   SAT_02_PRIMERA_URG         5400 non-null   int64  \n",
      " 7   GLU_PRIMERA_URG            5400 non-null   int64  \n",
      " 8   CREA--CREATININA           5400 non-null   float64\n",
      " 9   DD--DIMEROD                5400 non-null   float64\n",
      " 10  LIN--SISTEMATICODESANGRE   5400 non-null   float64\n",
      " 11  NEU--SISTEMATICODESANGRE   5400 non-null   float64\n",
      " 12  PCR--PROTEINACREACTIVA     5400 non-null   float64\n",
      " 13  PLAQ--SISTEMATICODESANGRE  5400 non-null   float64\n",
      " 14  FEMALE                     5400 non-null   int64  \n",
      " 15  MALE                       5400 non-null   int64  \n",
      " 16  DEATH                      5400 non-null   int64  \n",
      " 17  RECOVERED                  5400 non-null   int64  \n",
      " 18  RECOVERY_IN_PROGRESS       5400 non-null   int64  \n",
      "dtypes: float64(7), int64(12)\n",
      "memory usage: 843.8 KB\n"
     ]
    }
   ],
   "source": [
    "# Info\n",
    "data.info()"
   ]
  },
  {
   "cell_type": "code",
   "execution_count": 4,
   "metadata": {},
   "outputs": [
    {
     "data": {
      "text/plain": [
       "\"\\nsb.pairplot(data);\\nplt.title('Multiple Scatter Plot');\\nplt.savefig('../visualizations/dataset_multiple_scatter.png', bbox_inches='tight');\\n\""
      ]
     },
     "execution_count": 4,
     "metadata": {},
     "output_type": "execute_result"
    }
   ],
   "source": [
    "# Scatter plot\n",
    "'''\n",
    "sb.pairplot(data);\n",
    "plt.title('Multiple Scatter Plot');\n",
    "plt.savefig('../visualizations/dataset_multiple_scatter.png', bbox_inches='tight');\n",
    "'''"
   ]
  },
  {
   "cell_type": "code",
   "execution_count": 5,
   "metadata": {
    "scrolled": true
   },
   "outputs": [
    {
     "data": {
      "image/png": "[encoded data removed]",
      "text/plain": [
       "<Figure size 432x288 with 2 Axes>"
      ]
     },
     "metadata": {
      "needs_background": "light"
     },
     "output_type": "display_data"
    }
   ],
   "source": [
    "# Correlation Heatmap\n",
    "cmap = sb.diverging_palette(220, 220, as_cmap=True)\n",
    "sb.heatmap(data.corr(), cmap = cmap);\n",
    "plt.title('Dataset Correlations');\n",
    "plt.savefig('../visualizations/dataset_correlations.png', bbox_inches='tight')"
   ]
  },
  {
   "cell_type": "markdown",
   "metadata": {},
   "source": [
    "# Exploratory Modelling"
   ]
  },
  {
   "cell_type": "code",
   "execution_count": 6,
   "metadata": {},
   "outputs": [],
   "source": [
    "from xgboost import XGBClassifier, plot_importance\n",
    "from sklearn.feature_selection import SelectFromModel\n",
    "from sklearn.model_selection import train_test_split\n",
    "from sklearn.metrics import accuracy_score, recall_score, fbeta_score, precision_score, auc, roc_curve\n",
    "from sklearn.ensemble import RandomForestClassifier"
   ]
  },
  {
   "cell_type": "markdown",
   "metadata": {},
   "source": [
    "### Death"
   ]
  },
  {
   "cell_type": "code",
   "execution_count": 7,
   "metadata": {},
   "outputs": [],
   "source": [
    "# load data\n",
    "data_xg = data[data.columns.difference(['IDINGRESO'])]\n",
    "\n",
    "# split dataset x and y\n",
    "response = ['DEATH', 'RECOVERED', 'RECOVERY_IN_PROGRESS']\n",
    "X = data_xg[data_xg.columns.difference(response)]\n",
    "y_death = np.array(data_xg['DEATH'])\n",
    "\n",
    "# split dataset train test\n",
    "X_train, X_test, y_train, y_test = train_test_split(X, y_death, test_size=0.3, random_state=42)"
   ]
  },
  {
   "cell_type": "code",
   "execution_count": 8,
   "metadata": {},
   "outputs": [
    {
     "data": {
      "text/plain": [
       "Index(['CREA--CREATININA', 'DD--DIMEROD', 'EDAD', 'FC_PRIMERA_URG', 'FEMALE',\n",
       "       'GLU_PRIMERA_URG', 'LIN--SISTEMATICODESANGRE', 'MALE',\n",
       "       'NEU--SISTEMATICODESANGRE', 'PCR--PROTEINACREACTIVA',\n",
       "       'PLAQ--SISTEMATICODESANGRE', 'SAT_02_PRIMERA_URG', 'TA_MAX_PRIMERA_URG',\n",
       "       'TA_MIN_PRIMERA_URG', 'TEMP_PRIMERA_URG'],\n",
       "      dtype='object')"
      ]
     },
     "execution_count": 8,
     "metadata": {},
     "output_type": "execute_result"
    }
   ],
   "source": [
    "X.columns"
   ]
  },
  {
   "cell_type": "markdown",
   "metadata": {},
   "source": [
    "#### Random Forest"
   ]
  },
  {
   "cell_type": "code",
   "execution_count": 9,
   "metadata": {},
   "outputs": [],
   "source": [
    "# load data\n",
    "data_xg = data[data.columns.difference(['IDINGRESO', 'LIN--SISTEMATICODESANGRE'])]\n",
    "\n",
    "# split dataset x and y\n",
    "response = ['DEATH', 'RECOVERED', 'RECOVERY_IN_PROGRESS']\n",
    "X = data_xg[data_xg.columns.difference(response)]\n",
    "y_death = np.array(data_xg['DEATH'])\n",
    "\n",
    "# split dataset train test\n",
    "X_train, X_test, y_train, y_test = train_test_split(X, y_death, test_size=0.3, random_state=42)"
   ]
  },
  {
   "cell_type": "code",
   "execution_count": 10,
   "metadata": {},
   "outputs": [],
   "source": [
    "# intantinates\n",
    "rf_model = RandomForestClassifier(bootstrap=False, criterion=\"entropy\", max_features=0.4, min_samples_leaf=1, min_samples_split=4, n_estimators=100)"
   ]
  },
  {
   "cell_type": "code",
   "execution_count": 11,
   "metadata": {},
   "outputs": [],
   "source": [
    "# fit \n",
    "fr_model_fit = rf_model.fit(X_train, y_train)\n",
    "\n",
    "# predict \n",
    "y_death_pred = fr_model_fit.predict(X_test)"
   ]
  },
  {
   "cell_type": "code",
   "execution_count": 12,
   "metadata": {},
   "outputs": [
    {
     "name": "stdout",
     "output_type": "stream",
     "text": [
      "Death Prediction Random Forest\n",
      "Accuracy: 0.953\n",
      "Recall: 0.953\n",
      "F-beta (beta=0.9): 0.837\n",
      "Precision: 0.907\n",
      "Auc: 0.875\n"
     ]
    }
   ],
   "source": [
    "# evaluate prediction \n",
    "acc =round(accuracy_score(y_test, y_death_pred), 3)\n",
    "recall = round(recall_score(y_test, y_death_pred, average='weighted'), 3)\n",
    "beta = 0.90\n",
    "fbeta = round(fbeta_score(y_test, y_death_pred, beta = beta), 3)\n",
    "pre = round(precision_score(y_test, y_death_pred), 3)\n",
    "fpr, tpr, thresholds = roc_curve(y_test, y_death_pred)\n",
    "auc = round(auc(fpr, tpr),3)\n",
    "print(f'Death Prediction Random Forest\\nAccuracy: {acc}\\nRecall: {recall}\\nF-beta (beta={beta}): {fbeta}\\nPrecision: {pre}\\nAuc: {auc}')"
   ]
  },
  {
   "cell_type": "code",
   "execution_count": null,
   "metadata": {},
   "outputs": [],
   "source": []
  },
  {
   "cell_type": "code",
   "execution_count": 13,
   "metadata": {},
   "outputs": [
    {
     "data": {
      "image/png": "[encoded data removed]",
      "text/plain": [
       "<Figure size 432x288 with 1 Axes>"
      ]
     },
     "metadata": {
      "needs_background": "light"
     },
     "output_type": "display_data"
    }
   ],
   "source": [
    "# feature importance\n",
    "imp_feat = pd.Series(fr_model_fit.feature_importances_).sort_values(ascending=False)\n",
    "\n",
    "# get feature name from index\n",
    "x_list = []\n",
    "for i in imp_feat.index:\n",
    "    #print(i)\n",
    "    #print(X.columns[i])\n",
    "    x_list.append(X.columns[i])\n",
    "\n",
    "# plot\n",
    "sb.barplot(x = imp_feat.values, y = x_list, color = color);\n",
    "plt.title('Death Prediction Random Forest Feature Importance')\n",
    "plt.savefig('../visualizations/death_random_forest_feature_importance_final.png', bbox_inches='tight')"
   ]
  },
  {
   "cell_type": "markdown",
   "metadata": {},
   "source": [
    "### Recovery"
   ]
  },
  {
   "cell_type": "code",
   "execution_count": 7,
   "metadata": {},
   "outputs": [],
   "source": [
    "# load data\n",
    "data_xg = data[data.columns.difference(['IDINGRESO', 'LIN--SISTEMATICODESANGRE'])]\n",
    "\n",
    "# split dataset x and y\n",
    "response = ['DEATH', 'RECOVERED', 'RECOVERY_IN_PROGRESS']\n",
    "X = data_xg[data_xg.columns.difference(response)]\n",
    "y_death = np.array(data_xg['RECOVERED'])\n",
    "\n",
    "# split dataset train test\n",
    "X_train, X_test, y_train, y_test = train_test_split(X, y_death, test_size=0.3, random_state=42)"
   ]
  },
  {
   "cell_type": "markdown",
   "metadata": {},
   "source": [
    "#### Random Forest"
   ]
  },
  {
   "cell_type": "code",
   "execution_count": 8,
   "metadata": {},
   "outputs": [],
   "source": [
    "# intantinates\n",
    "rf_model = RandomForestClassifier()\n",
    "\n",
    "# fit \n",
    "rf_model_fit = rf_model.fit(X_train, y_train)\n",
    "\n",
    "# predict \n",
    "y_rec_pred = rf_model_fit.predict(X_test)"
   ]
  },
  {
   "cell_type": "code",
   "execution_count": 10,
   "metadata": {},
   "outputs": [
    {
     "data": {
      "text/plain": [
       "0.873"
      ]
     },
     "execution_count": 10,
     "metadata": {},
     "output_type": "execute_result"
    }
   ],
   "source": [
    "fpr_2, tpr_2, thresholds = roc_curve(y_test, y_rec_pred)\n",
    "auc_2 = round(auc(fpr_2, tpr_2),3)\n",
    "auc_2"
   ]
  },
  {
   "cell_type": "code",
   "execution_count": 11,
   "metadata": {},
   "outputs": [
    {
     "name": "stdout",
     "output_type": "stream",
     "text": [
      "Recovery Prediction Random Forest\n",
      "Accuracy: 0.927\n",
      "Recall: 0.981\n",
      "F-beta (beta=0.1): 0.927\n",
      "Precision: 0.926\n",
      "Auc: 0.873\n"
     ]
    }
   ],
   "source": [
    "# evaluate prediction \n",
    "acc =round(accuracy_score(y_test, y_rec_pred), 3)\n",
    "recall = round(recall_score(y_test, y_rec_pred), 3)\n",
    "beta = 0.10\n",
    "fbeta = round(fbeta_score(y_test, y_rec_pred, beta = beta), 3)\n",
    "pre = round(precision_score(y_test, y_rec_pred), 3)\n",
    "fpr_2, tpr_2, thresholds = roc_curve(y_test, y_rec_pred)\n",
    "auc_2 = round(auc(fpr_2, tpr_2),3)\n",
    "print(f'Recovery Prediction Random Forest\\nAccuracy: {acc}\\nRecall: {recall}\\nF-beta (beta={beta}): {fbeta}\\nPrecision: {pre}\\nAuc: {auc_2}')"
   ]
  },
  {
   "cell_type": "code",
   "execution_count": null,
   "metadata": {},
   "outputs": [],
   "source": [
    "# feature importance\n",
    "imp_feat = pd.Series(rf_model_fit.feature_importances_).sort_values(ascending=False)\n",
    "\n",
    "# get feature name from index\n",
    "x_list = []\n",
    "for i in imp_feat.index:\n",
    "    #print(i)\n",
    "    #print(X.columns[i])\n",
    "    x_list.append(X.columns[i])\n",
    "\n",
    "# plot\n",
    "sb.barplot(x = imp_feat.values, y = x_list, color = color);\n",
    "plt.title('Recovery Prediction Random Forest Feature Importance')\n",
    "plt.savefig('../visualizations/recovery_random_forest_feature_importance_final.png', bbox_inches='tight')"
   ]
  },
  {
   "cell_type": "code",
   "execution_count": null,
   "metadata": {},
   "outputs": [],
   "source": []
  }
 ],
 "metadata": {
  "kernelspec": {
   "display_name": "Python 3",
   "language": "python",
   "name": "python3"
  },
  "language_info": {
   "codemirror_mode": {
    "name": "ipython",
    "version": 3
   },
   "file_extension": ".py",
   "mimetype": "text/x-python",
   "name": "python",
   "nbconvert_exporter": "python",
   "pygments_lexer": "ipython3",
   "version": "3.9.4"
  }
 },
 "nbformat": 4,
 "nbformat_minor": 4
}
